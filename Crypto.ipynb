{
  "nbformat": 4,
  "nbformat_minor": 0,
  "metadata": {
    "colab": {
      "provenance": [],
      "authorship_tag": "ABX9TyMTnscwtvuqv3zZmVE8L0dj",
      "include_colab_link": true
    },
    "kernelspec": {
      "name": "python3",
      "display_name": "Python 3"
    },
    "language_info": {
      "name": "python"
    }
  },
  "cells": [
    {
      "cell_type": "markdown",
      "metadata": {
        "id": "view-in-github",
        "colab_type": "text"
      },
      "source": [
        "<a href=\"https://colab.research.google.com/github/Iman6243/Iman6243/blob/main/Crypto.ipynb\" target=\"_parent\"><img src=\"https://colab.research.google.com/assets/colab-badge.svg\" alt=\"Open In Colab\"/></a>"
      ]
    },
    {
      "cell_type": "code",
      "execution_count": 3,
      "metadata": {
        "colab": {
          "base_uri": "https://localhost:8080/"
        },
        "id": "uYWNh-YJ5JBE",
        "outputId": "3043695c-6bb2-41b4-f3f2-d1712ded3bc5"
      },
      "outputs": [
        {
          "output_type": "stream",
          "name": "stdout",
          "text": [
            "Block hash with proof of work: 00006db2d7ba59acca4bc94e537e823c63323751ef7dbd54d10ddcea98ce3733\n"
          ]
        }
      ],
      "source": [
        "\n",
        "import hashlib\n",
        "import time\n",
        "\n",
        "def proof_of_work(block, difficulty):\n",
        "    block['nonce'] = 0\n",
        "    computed_hash = calculate_hash(block)\n",
        "    while not computed_hash.startswith('0' * difficulty):\n",
        "        block['nonce'] += 1\n",
        "        computed_hash = calculate_hash(block)\n",
        "    return computed_hash\n",
        "\n",
        "def calculate_hash(block):\n",
        "    block_string = str(block['index']) + str(block['timestamp']) + str(block['data']) + str(block['previous_hash']) + str(block['nonce'])\n",
        "    return hashlib.sha256(block_string.encode()).hexdigest()\n",
        "\n",
        "block = {\n",
        "    'index': 1,\n",
        "    'timestamp': time.time(),\n",
        "    'data': ' صحرایی ایمان',\n",
        "    'previous_hash': '0',\n",
        "    'nonce': 0\n",
        "}\n",
        "\n",
        "difficulty = 4  # تعداد صفرهای ابتدایی مورد نیاز در هش\n",
        "\n",
        "proof = proof_of_work(block, difficulty)\n",
        "print(\"Block hash with proof of work:\", proof)"
      ]
    }
  ]
}